{
  "nbformat": 4,
  "nbformat_minor": 0,
  "metadata": {
    "colab": {
      "provenance": []
    },
    "kernelspec": {
      "name": "python3",
      "display_name": "Python 3"
    },
    "language_info": {
      "name": "python"
    }
  },
  "cells": [
    {
      "cell_type": "code",
      "execution_count": null,
      "metadata": {
        "id": "pwYCRTWVb1k_"
      },
      "outputs": [],
      "source": [
        "#This is a script to download Microsoft Building Footprint and convert it to GeoJSON format\n",
        "import pandas as pd\n",
        "import geopandas as gpd\n",
        "from shapely.geometry import shape\n",
        "\n",
        "def main():\n",
        "    # this is the name of the geography you want to retrieve. update to meet your needs\n",
        "    # Select a location in https://minedbuildings.blob.core.windows.net/global-buildings/dataset-links.csv\n",
        "    location = 'Haiti'\n",
        "\n",
        "    dataset_links = pd.read_csv(\"https://minedbuildings.blob.core.windows.net/global-buildings/dataset-links.csv\")\n",
        "    data = dataset_links[dataset_links.Location == location]\n",
        "    lst = []\n",
        "    for _, row in data.iterrows():\n",
        "        df = pd.read_json(row.Url, lines=True)\n",
        "        df['geometry'] = df['geometry'].apply(shape)\n",
        "        gdf = gpd.GeoDataFrame(df, crs=4326)\n",
        "        lst.append(gdf)\n",
        "    combin = pd.concat(lst,ignore_index=True)\n",
        "    # this should be the name of the geography you want to retrieve. update to meet your needs\n",
        "    combin.to_file(\"haiti_ms.geojson\", driver=\"GeoJSON\")\n",
        "\n",
        "\n",
        "if __name__ == \"__main__\":\n",
        "    main()"
      ]
    },
    {
      "cell_type": "code",
      "source": [],
      "metadata": {
        "id": "Vc0rcK7Pc16i"
      },
      "execution_count": null,
      "outputs": []
    }
  ]
}